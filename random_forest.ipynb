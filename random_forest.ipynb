{
 "cells": [
  {
   "cell_type": "code",
   "execution_count": 1,
   "metadata": {},
   "outputs": [],
   "source": [
    "training_folder = 'training_data/'"
   ]
  },
  {
   "cell_type": "code",
   "execution_count": 2,
   "metadata": {},
   "outputs": [
    {
     "name": "stdout",
     "output_type": "stream",
     "text": [
      "loaded 20 classes of training data\n",
      "unique labels:  [ 0  1  2  3  4  5  6  7  8  9 10 11 12 13 14 15 16 17 18 19]\n",
      "number of features:  20\n",
      "number of samples:  100000\n"
     ]
    }
   ],
   "source": [
    "import numpy as np\n",
    "\n",
    "# instantiate empty arrays for features and labels\n",
    "Xtr = np.array([])\n",
    "ytr = np.array([])\n",
    "k = 0 # initialize\n",
    "\n",
    "# load data from the relevant files\n",
    "while True:\n",
    "    try:\n",
    "        # load data file\n",
    "        class_k = np.loadtxt(training_folder + 'Class{:}.csv'.format(k))\n",
    "        # extract features and labels\n",
    "        class_k_features = class_k[:,:-1] # extract features\n",
    "        class_k_labels  = class_k[:,-1].astype(np.int) # labels; convert to int\n",
    "        # append the features and labels to the arrays\n",
    "        Xtr = np.vstack([Xtr,class_k_features]) if Xtr.size else class_k_features\n",
    "        ytr = np.hstack([ytr,class_k_labels]) if ytr.size else class_k_labels\n",
    "        # increment counter\n",
    "        k += 1\n",
    "    except:\n",
    "        print('loaded %i classes of training data' %k)\n",
    "        break\n",
    "\n",
    "# examine shape\n",
    "num_classes = k\n",
    "num_features = Xtr.shape[1]\n",
    "num_samples = Xtr.shape[0]\n",
    "\n",
    "print('unique labels: ', np.unique(ytr))\n",
    "print('number of features: ', num_features)\n",
    "print('number of samples: ', num_samples)"
   ]
  },
  {
   "cell_type": "code",
   "execution_count": 3,
   "metadata": {},
   "outputs": [],
   "source": [
    "#Splitting the dataset into training and testing \n",
    "\n",
    "from sklearn.model_selection import train_test_split\n",
    "X_train, X_test, y_train, y_test = train_test_split(Xtr, ytr, test_size = 0.33, random_state = 0)"
   ]
  },
  {
   "cell_type": "code",
   "execution_count": null,
   "metadata": {},
   "outputs": [],
   "source": [
    "from sklearn.model_selection import GridSearchCV\n",
    "from sklearn.ensemble import RandomForestClassifier\n",
    "# Create the parameter grid based on the results of random search \n",
    "param_grid = {\n",
    "    'max_depth': [50, 60, 70],\n",
    "    'min_samples_leaf': [3, 4, 5],\n",
    "    'min_samples_split': [8, 10, 12],\n",
    "    'n_estimators': [100, 200]\n",
    "}\n",
    "# Create a based model\n",
    "rf = RandomForestClassifier()\n",
    "# Instantiate the grid search model\n",
    "grid_search = GridSearchCV(estimator = rf, param_grid = param_grid, \n",
    "                          cv = 1, n_jobs = -1, verbose = 2)\n",
    "print(grid_search)"
   ]
  },
  {
   "cell_type": "code",
   "execution_count": 30,
   "metadata": {},
   "outputs": [
    {
     "data": {
      "text/plain": [
       "RandomForestClassifier(bootstrap=True, class_weight=None, criterion='gini',\n",
       "                       max_depth=None, max_features=0.29, max_leaf_nodes=None,\n",
       "                       min_impurity_decrease=0.0, min_impurity_split=None,\n",
       "                       min_samples_leaf=1, min_samples_split=2,\n",
       "                       min_weight_fraction_leaf=0.0, n_estimators=200,\n",
       "                       n_jobs=-1, oob_score=True, random_state=0, verbose=0,\n",
       "                       warm_start=False)"
      ]
     },
     "execution_count": 30,
     "metadata": {},
     "output_type": "execute_result"
    }
   ],
   "source": [
    "# Fitting Random Forest Classification to the Training set\n",
    "\n",
    "from sklearn.ensemble import RandomForestClassifier\n",
    "classifier = RandomForestClassifier(n_estimators = 200, criterion = 'gini', random_state = 0, oob_score = True, n_jobs = -1,\n",
    "                                   max_features=0.29)\n",
    "classifier.fit(X_train, y_train)"
   ]
  },
  {
   "cell_type": "code",
   "execution_count": 31,
   "metadata": {},
   "outputs": [],
   "source": [
    "# Predicting the Test set results\n",
    "y_pred_train = classifier.predict(X_train)\n",
    "y_pred = classifier.predict(X_test)"
   ]
  },
  {
   "cell_type": "code",
   "execution_count": 32,
   "metadata": {},
   "outputs": [
    {
     "name": "stdout",
     "output_type": "stream",
     "text": [
      "Accuracy on train data = 1.0000\n",
      "Accuracy on test data = 0.8913\n"
     ]
    }
   ],
   "source": [
    "acc_train = np.mean(y_pred_train == y_train)\n",
    "acc = np.mean(y_pred == y_test)\n",
    "print('Accuracy on train data = {0:.4f}'.format(acc_train))\n",
    "print('Accuracy on test data = {0:.4f}'.format(acc))"
   ]
  },
  {
   "cell_type": "code",
   "execution_count": 33,
   "metadata": {},
   "outputs": [],
   "source": [
    "# Applying k-Fold Cross Validation\n",
    "from sklearn.model_selection import cross_val_score\n",
    "accuracies = cross_val_score(estimator = classifier, X = X_train, y = y_train, cv = 10)"
   ]
  },
  {
   "cell_type": "code",
   "execution_count": 34,
   "metadata": {},
   "outputs": [
    {
     "name": "stdout",
     "output_type": "stream",
     "text": [
      "[0.89414045 0.89084402 0.89366145 0.88678401 0.89462687 0.88953575\n",
      " 0.88789372 0.89725209 0.89227551 0.89299058]\n"
     ]
    }
   ],
   "source": [
    "print(accuracies)"
   ]
  },
  {
   "cell_type": "code",
   "execution_count": 35,
   "metadata": {},
   "outputs": [
    {
     "data": {
      "text/plain": [
       "0.8920004446436789"
      ]
     },
     "execution_count": 35,
     "metadata": {},
     "output_type": "execute_result"
    }
   ],
   "source": [
    "accuracies.mean()"
   ]
  }
 ],
 "metadata": {
  "kernelspec": {
   "display_name": "Python 3",
   "language": "python",
   "name": "python3"
  },
  "language_info": {
   "codemirror_mode": {
    "name": "ipython",
    "version": 3
   },
   "file_extension": ".py",
   "mimetype": "text/x-python",
   "name": "python",
   "nbconvert_exporter": "python",
   "pygments_lexer": "ipython3",
   "version": "3.8.3"
  }
 },
 "nbformat": 4,
 "nbformat_minor": 4
}
